{
 "cells": [
  {
   "cell_type": "code",
   "execution_count": 1,
   "id": "5d5237a7-50ad-41ad-a895-20f96f2af565",
   "metadata": {},
   "outputs": [],
   "source": [
    "# !pip3 install sktime pmdarima"
   ]
  },
  {
   "cell_type": "code",
   "execution_count": 2,
   "id": "e2c99770-de8a-4e0b-ac28-c1a9501e995f",
   "metadata": {},
   "outputs": [
    {
     "name": "stderr",
     "output_type": "stream",
     "text": [
      "/usr/local/lib/python3.9/site-packages/statsmodels/compat/pandas.py:65: FutureWarning: pandas.Int64Index is deprecated and will be removed from pandas in a future version. Use pandas.Index with the appropriate dtype instead.\n",
      "  from pandas import Int64Index as NumericIndex\n"
     ]
    }
   ],
   "source": [
    "import os\n",
    "import glob\n",
    "import pandas as pd\n",
    "import numpy as np\n",
    "import matplotlib.pyplot as plt\n",
    "import datetime\n",
    "# import fcn_helpers as fhelp\n",
    "# import fcn_simulation as fsim\n",
    "from catboost import CatBoostRegressor, Pool\n",
    "from sklearn.model_selection import train_test_split\n",
    "\n",
    "from sktime.forecasting.model_selection import temporal_train_test_split\n",
    "from sktime.utils.plotting import plot_series\n",
    "from sktime.performance_metrics.forecasting import MeanAbsoluteError\n",
    "\n",
    "import carlos_utils.file_utils as fu\n",
    "\n",
    "#plt.rcParams['figure.figsize'] = [14, 7]\n",
    "# fhelp.makeFolder('results')\n",
    "pd.options.display.max_rows = None\n",
    "# Use v2.0 colour cycle\n",
    "def_colours = plt.rcParams['axes.prop_cycle'].by_key()['color']\n",
    "# Fig sizes\n",
    "fig_h = 10\n",
    "fig_w = 18"
   ]
  },
  {
   "cell_type": "code",
   "execution_count": 3,
   "id": "b30c5793-cbbf-4cba-91eb-5ab1b58dfd88",
   "metadata": {},
   "outputs": [
    {
     "data": {
      "text/plain": [
       "'0.11.2'"
      ]
     },
     "execution_count": 3,
     "metadata": {},
     "output_type": "execute_result"
    }
   ],
   "source": [
    "import sktime\n",
    "sktime.__version__"
   ]
  },
  {
   "cell_type": "code",
   "execution_count": 4,
   "id": "5483b6f6-89ea-4ccb-bf9b-7f254b7f363a",
   "metadata": {},
   "outputs": [],
   "source": [
    "folder = '/Users/carlos.aguilar/Documents/EF_Finance/data'\n",
    "filename = 'aggregated_teach_online.pickle'\n",
    "filepath = fu.fullfile(folder, filename)\n",
    "df_aggregated  = fu.readPickleFile(filepath)"
   ]
  },
  {
   "cell_type": "code",
   "execution_count": 38,
   "id": "ec6a2f1e-cd23-44bb-9c4c-c922acf7cd46",
   "metadata": {},
   "outputs": [
    {
     "name": "stderr",
     "output_type": "stream",
     "text": [
      "/var/folders/d4/dxr4y6295wg7lvsw32g7hq8h0000gn/T/ipykernel_95443/3520387243.py:10: SettingWithCopyWarning: \n",
      "A value is trying to be set on a copy of a slice from a DataFrame\n",
      "\n",
      "See the caveats in the documentation: https://pandas.pydata.org/pandas-docs/stable/user_guide/indexing.html#returning-a-view-versus-a-copy\n",
      "  df_service.sort_values(by=['product_line','product_category', 'completed_date'], inplace=True)\n"
     ]
    }
   ],
   "source": [
    "this_country = 'Brazil'\n",
    "this_service = 'CP20'\n",
    "# this_service = 'EFTV'\n",
    "# this_service = 'Writing'\n",
    "# this_service = 'GL'\n",
    "\n",
    "idx_country = df_aggregated.region_name == this_country\n",
    "df_aggregated_country = df_aggregated[idx_country]\n",
    "df_service = df_aggregated_country[df_aggregated_country.service==this_service]\n",
    "df_service.sort_values(by=['product_line','product_category', 'completed_date'], inplace=True)\n",
    "\n",
    "min_samples = 10\n",
    "temp_valid_categories = df_service.product_category.value_counts() > min_samples\n",
    "valid_categories = temp_valid_categories.index[temp_valid_categories.values].tolist()\n",
    "\n"
   ]
  },
  {
   "cell_type": "code",
   "execution_count": 62,
   "id": "0be3dd74-8c7f-4ddf-803d-beb91f3701d7",
   "metadata": {},
   "outputs": [],
   "source": [
    "this_category = valid_categories[0]\n",
    "df_to_frc = df_service[df_service.product_category == this_category].reset_index(drop=True)"
   ]
  },
  {
   "cell_type": "code",
   "execution_count": 63,
   "id": "1f35ae07-0fbd-46b2-9039-0280ec74a5d4",
   "metadata": {},
   "outputs": [],
   "source": [
    "test_date = datetime.date(2022, 1, 1)\n",
    "idx_test = df_to_frc.completed_date > test_date\n",
    "df_train = df_to_frc[~idx_test].copy()\n",
    "df_test = df_to_frc[idx_test].copy()\n",
    "\n",
    "\n",
    "#\n",
    "\n",
    "y_train = df_train.total_usage\n",
    "y_test  = df_test.total_usage"
   ]
  },
  {
   "cell_type": "code",
   "execution_count": 64,
   "id": "603a9365-0e26-44b0-8b0f-493b1f6a48b1",
   "metadata": {},
   "outputs": [
    {
     "data": {
      "image/png": "[encoded data removed]",
      "text/plain": [
       "<Figure size 1296x360 with 1 Axes>"
      ]
     },
     "metadata": {
      "needs_background": "light"
     },
     "output_type": "display_data"
    }
   ],
   "source": [
    "fig_title = f'Country {this_country}/{this_service}/{this_category}'\n",
    "x_axis = df_train.completed_date\n",
    "y_axis = df_train.total_usage\n",
    "f, ax = plt.subplots(figsize=(fig_w, fig_h/2))\n",
    "ax.plot(x_axis, y_axis, label='Total usage', color=def_colours[0], linewidth=2)\n",
    "#ax.plot(x_axis,df_regular.sum(axis=1), label='Regular sales')\n",
    "plt.xlabel('dates')\n",
    "plt.ylabel(fig_title)\n",
    "plt.grid(True)\n",
    "plt.legend()\n",
    "plt.show()"
   ]
  },
  {
   "cell_type": "code",
   "execution_count": 65,
   "id": "9ec93862-4e2e-4050-bfaf-2481bd1eb00b",
   "metadata": {},
   "outputs": [
    {
     "data": {
      "text/html": [
       "<div>\n",
       "<style scoped>\n",
       "    .dataframe tbody tr th:only-of-type {\n",
       "        vertical-align: middle;\n",
       "    }\n",
       "\n",
       "    .dataframe tbody tr th {\n",
       "        vertical-align: top;\n",
       "    }\n",
       "\n",
       "    .dataframe thead th {\n",
       "        text-align: right;\n",
       "    }\n",
       "</style>\n",
       "<table border=\"1\" class=\"dataframe\">\n",
       "  <thead>\n",
       "    <tr style=\"text-align: right;\">\n",
       "      <th></th>\n",
       "      <th>product_line</th>\n",
       "      <th>product_category</th>\n",
       "      <th>region_name</th>\n",
       "      <th>service</th>\n",
       "      <th>completed_date</th>\n",
       "      <th>total_usage</th>\n",
       "    </tr>\n",
       "  </thead>\n",
       "  <tbody>\n",
       "    <tr>\n",
       "      <th>23</th>\n",
       "      <td>B2C</td>\n",
       "      <td>telesales</td>\n",
       "      <td>Brazil</td>\n",
       "      <td>CP20</td>\n",
       "      <td>2021-11-01</td>\n",
       "      <td>48.0</td>\n",
       "    </tr>\n",
       "    <tr>\n",
       "      <th>24</th>\n",
       "      <td>B2C</td>\n",
       "      <td>telesales</td>\n",
       "      <td>Brazil</td>\n",
       "      <td>CP20</td>\n",
       "      <td>2021-12-01</td>\n",
       "      <td>162.0</td>\n",
       "    </tr>\n",
       "    <tr>\n",
       "      <th>25</th>\n",
       "      <td>B2C</td>\n",
       "      <td>telesales</td>\n",
       "      <td>Brazil</td>\n",
       "      <td>CP20</td>\n",
       "      <td>2022-01-01</td>\n",
       "      <td>234.0</td>\n",
       "    </tr>\n",
       "    <tr>\n",
       "      <th>26</th>\n",
       "      <td>B2C</td>\n",
       "      <td>telesales</td>\n",
       "      <td>Brazil</td>\n",
       "      <td>CP20</td>\n",
       "      <td>2022-02-01</td>\n",
       "      <td>334.0</td>\n",
       "    </tr>\n",
       "    <tr>\n",
       "      <th>27</th>\n",
       "      <td>B2C</td>\n",
       "      <td>telesales</td>\n",
       "      <td>Brazil</td>\n",
       "      <td>CP20</td>\n",
       "      <td>2022-03-01</td>\n",
       "      <td>342.0</td>\n",
       "    </tr>\n",
       "  </tbody>\n",
       "</table>\n",
       "</div>"
      ],
      "text/plain": [
       "   product_line product_category region_name service completed_date  \\\n",
       "23          B2C        telesales      Brazil    CP20     2021-11-01   \n",
       "24          B2C        telesales      Brazil    CP20     2021-12-01   \n",
       "25          B2C        telesales      Brazil    CP20     2022-01-01   \n",
       "26          B2C        telesales      Brazil    CP20     2022-02-01   \n",
       "27          B2C        telesales      Brazil    CP20     2022-03-01   \n",
       "\n",
       "    total_usage  \n",
       "23         48.0  \n",
       "24        162.0  \n",
       "25        234.0  \n",
       "26        334.0  \n",
       "27        342.0  "
      ]
     },
     "execution_count": 65,
     "metadata": {},
     "output_type": "execute_result"
    }
   ],
   "source": [
    "df_to_frc.tail()"
   ]
  },
  {
   "cell_type": "code",
   "execution_count": 66,
   "id": "6549b68a-47dd-4726-b42a-b739731cf3c7",
   "metadata": {},
   "outputs": [],
   "source": [
    "# rmsse = MeanSquaredScaledError(square_root=True)\n",
    "mae = MeanAbsoluteError()"
   ]
  },
  {
   "cell_type": "markdown",
   "id": "b3a64299-f0ec-4436-970c-bfd2e61e624c",
   "metadata": {},
   "source": [
    "# Naive forecast"
   ]
  },
  {
   "cell_type": "code",
   "execution_count": 67,
   "id": "58fb4a69-047d-4507-b61e-5c309a9f2b54",
   "metadata": {},
   "outputs": [
    {
     "data": {
      "text/plain": [
       "322.59027777777777"
      ]
     },
     "execution_count": 67,
     "metadata": {},
     "output_type": "execute_result"
    }
   ],
   "source": [
    "reg_period = 3\n",
    "fh = np.arange(len(y_test)) + 1\n",
    "from sktime.forecasting.naive import NaiveForecaster\n",
    "forecaster = NaiveForecaster(strategy=\"mean\", sp=reg_period)\n",
    "forecaster.fit(y_train)\n",
    "y_pred = forecaster.predict(fh)\n",
    "# plot_series(y_train, y_test, y_pred, labels=[\"y_train\", \"y_test\", \"y_pred\"])\n",
    "mae(y_pred, y_test)"
   ]
  },
  {
   "cell_type": "markdown",
   "id": "29bddfa0-ecdc-40c5-9ec3-7faf7a94ae49",
   "metadata": {},
   "source": [
    "# Holt-Winters"
   ]
  },
  {
   "cell_type": "code",
   "execution_count": 68,
   "id": "0ed2ffd0-0371-437d-88bd-9758ebe56d04",
   "metadata": {},
   "outputs": [
    {
     "ename": "ValueError",
     "evalue": "endog must be strictly positive when usingmultiplicative trend or seasonal components.",
     "output_type": "error",
     "traceback": [
      "\u001b[0;31m---------------------------------------------------------------------------\u001b[0m",
      "\u001b[0;31mValueError\u001b[0m                                Traceback (most recent call last)",
      "\u001b[0;32m/var/folders/d4/dxr4y6295wg7lvsw32g7hq8h0000gn/T/ipykernel_95443/816327061.py\u001b[0m in \u001b[0;36m<module>\u001b[0;34m\u001b[0m\n\u001b[1;32m      3\u001b[0m \u001b[0mreg_period\u001b[0m \u001b[0;34m=\u001b[0m \u001b[0;36m12\u001b[0m\u001b[0;34m\u001b[0m\u001b[0;34m\u001b[0m\u001b[0m\n\u001b[1;32m      4\u001b[0m \u001b[0mforecaster\u001b[0m \u001b[0;34m=\u001b[0m \u001b[0mExponentialSmoothing\u001b[0m\u001b[0;34m(\u001b[0m\u001b[0mtrend\u001b[0m\u001b[0;34m=\u001b[0m\u001b[0;34m\"add\"\u001b[0m\u001b[0;34m,\u001b[0m \u001b[0mseasonal\u001b[0m\u001b[0;34m=\u001b[0m\u001b[0;34m\"multiplicative\"\u001b[0m\u001b[0;34m,\u001b[0m \u001b[0msp\u001b[0m\u001b[0;34m=\u001b[0m\u001b[0mreg_period\u001b[0m\u001b[0;34m)\u001b[0m\u001b[0;34m\u001b[0m\u001b[0;34m\u001b[0m\u001b[0m\n\u001b[0;32m----> 5\u001b[0;31m \u001b[0mforecaster\u001b[0m\u001b[0;34m.\u001b[0m\u001b[0mfit\u001b[0m\u001b[0;34m(\u001b[0m\u001b[0my_train\u001b[0m\u001b[0;34m)\u001b[0m\u001b[0;34m\u001b[0m\u001b[0;34m\u001b[0m\u001b[0m\n\u001b[0m\u001b[1;32m      6\u001b[0m \u001b[0my_pred\u001b[0m \u001b[0;34m=\u001b[0m \u001b[0mforecaster\u001b[0m\u001b[0;34m.\u001b[0m\u001b[0mpredict\u001b[0m\u001b[0;34m(\u001b[0m\u001b[0mfh\u001b[0m\u001b[0;34m)\u001b[0m\u001b[0;34m\u001b[0m\u001b[0;34m\u001b[0m\u001b[0m\n\u001b[1;32m      7\u001b[0m \u001b[0mplot_series\u001b[0m\u001b[0;34m(\u001b[0m\u001b[0my_train\u001b[0m\u001b[0;34m,\u001b[0m \u001b[0my_test\u001b[0m\u001b[0;34m,\u001b[0m \u001b[0my_pred\u001b[0m\u001b[0;34m,\u001b[0m \u001b[0mlabels\u001b[0m\u001b[0;34m=\u001b[0m\u001b[0;34m[\u001b[0m\u001b[0;34m\"y_train\"\u001b[0m\u001b[0;34m,\u001b[0m \u001b[0;34m\"y_test\"\u001b[0m\u001b[0;34m,\u001b[0m \u001b[0;34m\"y_pred\"\u001b[0m\u001b[0;34m]\u001b[0m\u001b[0;34m)\u001b[0m\u001b[0;34m\u001b[0m\u001b[0;34m\u001b[0m\u001b[0m\n",
      "\u001b[0;32m/usr/local/lib/python3.9/site-packages/sktime/forecasting/base/_base.py\u001b[0m in \u001b[0;36mfit\u001b[0;34m(self, y, X, fh)\u001b[0m\n\u001b[1;32m    239\u001b[0m         \u001b[0;31m# we call the ordinary _fit if no looping/vectorization needed\u001b[0m\u001b[0;34m\u001b[0m\u001b[0;34m\u001b[0m\u001b[0m\n\u001b[1;32m    240\u001b[0m         \u001b[0;32mif\u001b[0m \u001b[0;32mnot\u001b[0m \u001b[0mvectorization_needed\u001b[0m\u001b[0;34m:\u001b[0m\u001b[0;34m\u001b[0m\u001b[0;34m\u001b[0m\u001b[0m\n\u001b[0;32m--> 241\u001b[0;31m             \u001b[0mself\u001b[0m\u001b[0;34m.\u001b[0m\u001b[0m_fit\u001b[0m\u001b[0;34m(\u001b[0m\u001b[0my\u001b[0m\u001b[0;34m=\u001b[0m\u001b[0my_inner\u001b[0m\u001b[0;34m,\u001b[0m \u001b[0mX\u001b[0m\u001b[0;34m=\u001b[0m\u001b[0mX_inner\u001b[0m\u001b[0;34m,\u001b[0m \u001b[0mfh\u001b[0m\u001b[0;34m=\u001b[0m\u001b[0mfh\u001b[0m\u001b[0;34m)\u001b[0m\u001b[0;34m\u001b[0m\u001b[0;34m\u001b[0m\u001b[0m\n\u001b[0m\u001b[1;32m    242\u001b[0m         \u001b[0;32melse\u001b[0m\u001b[0;34m:\u001b[0m\u001b[0;34m\u001b[0m\u001b[0;34m\u001b[0m\u001b[0m\n\u001b[1;32m    243\u001b[0m             \u001b[0;31m# otherwise we call the vectorized version of fit\u001b[0m\u001b[0;34m\u001b[0m\u001b[0;34m\u001b[0m\u001b[0m\n",
      "\u001b[0;32m/usr/local/lib/python3.9/site-packages/sktime/forecasting/base/adapters/_statsmodels.py\u001b[0m in \u001b[0;36m_fit\u001b[0;34m(self, y, X, fh)\u001b[0m\n\u001b[1;32m     50\u001b[0m         \u001b[0;32mif\u001b[0m \u001b[0misinstance\u001b[0m\u001b[0;34m(\u001b[0m\u001b[0my\u001b[0m\u001b[0;34m,\u001b[0m \u001b[0mpd\u001b[0m\u001b[0;34m.\u001b[0m\u001b[0mSeries\u001b[0m\u001b[0;34m)\u001b[0m \u001b[0;32mand\u001b[0m \u001b[0my\u001b[0m\u001b[0;34m.\u001b[0m\u001b[0mindex\u001b[0m\u001b[0;34m.\u001b[0m\u001b[0mis_integer\u001b[0m\u001b[0;34m(\u001b[0m\u001b[0;34m)\u001b[0m\u001b[0;34m:\u001b[0m\u001b[0;34m\u001b[0m\u001b[0;34m\u001b[0m\u001b[0m\n\u001b[1;32m     51\u001b[0m             \u001b[0my\u001b[0m\u001b[0;34m,\u001b[0m \u001b[0mX\u001b[0m \u001b[0;34m=\u001b[0m \u001b[0m_coerce_int_to_range_index\u001b[0m\u001b[0;34m(\u001b[0m\u001b[0my\u001b[0m\u001b[0;34m,\u001b[0m \u001b[0mX\u001b[0m\u001b[0;34m)\u001b[0m\u001b[0;34m\u001b[0m\u001b[0;34m\u001b[0m\u001b[0m\n\u001b[0;32m---> 52\u001b[0;31m         \u001b[0mself\u001b[0m\u001b[0;34m.\u001b[0m\u001b[0m_fit_forecaster\u001b[0m\u001b[0;34m(\u001b[0m\u001b[0my\u001b[0m\u001b[0;34m,\u001b[0m \u001b[0mX\u001b[0m\u001b[0;34m)\u001b[0m\u001b[0;34m\u001b[0m\u001b[0;34m\u001b[0m\u001b[0m\n\u001b[0m\u001b[1;32m     53\u001b[0m         \u001b[0;32mreturn\u001b[0m \u001b[0mself\u001b[0m\u001b[0;34m\u001b[0m\u001b[0;34m\u001b[0m\u001b[0m\n\u001b[1;32m     54\u001b[0m \u001b[0;34m\u001b[0m\u001b[0m\n",
      "\u001b[0;32m/usr/local/lib/python3.9/site-packages/sktime/forecasting/exp_smoothing.py\u001b[0m in \u001b[0;36m_fit_forecaster\u001b[0;34m(self, y, X)\u001b[0m\n\u001b[1;32m    162\u001b[0m \u001b[0;34m\u001b[0m\u001b[0m\n\u001b[1;32m    163\u001b[0m     \u001b[0;32mdef\u001b[0m \u001b[0m_fit_forecaster\u001b[0m\u001b[0;34m(\u001b[0m\u001b[0mself\u001b[0m\u001b[0;34m,\u001b[0m \u001b[0my\u001b[0m\u001b[0;34m,\u001b[0m \u001b[0mX\u001b[0m\u001b[0;34m=\u001b[0m\u001b[0;32mNone\u001b[0m\u001b[0;34m)\u001b[0m\u001b[0;34m:\u001b[0m\u001b[0;34m\u001b[0m\u001b[0;34m\u001b[0m\u001b[0m\n\u001b[0;32m--> 164\u001b[0;31m         self._forecaster = _ExponentialSmoothing(\n\u001b[0m\u001b[1;32m    165\u001b[0m             \u001b[0my\u001b[0m\u001b[0;34m,\u001b[0m\u001b[0;34m\u001b[0m\u001b[0;34m\u001b[0m\u001b[0m\n\u001b[1;32m    166\u001b[0m             \u001b[0mtrend\u001b[0m\u001b[0;34m=\u001b[0m\u001b[0mself\u001b[0m\u001b[0;34m.\u001b[0m\u001b[0mtrend\u001b[0m\u001b[0;34m,\u001b[0m\u001b[0;34m\u001b[0m\u001b[0;34m\u001b[0m\u001b[0m\n",
      "\u001b[0;32m/usr/local/lib/python3.9/site-packages/pandas/util/_decorators.py\u001b[0m in \u001b[0;36mwrapper\u001b[0;34m(*args, **kwargs)\u001b[0m\n\u001b[1;32m    205\u001b[0m                 \u001b[0;32melse\u001b[0m\u001b[0;34m:\u001b[0m\u001b[0;34m\u001b[0m\u001b[0;34m\u001b[0m\u001b[0m\n\u001b[1;32m    206\u001b[0m                     \u001b[0mkwargs\u001b[0m\u001b[0;34m[\u001b[0m\u001b[0mnew_arg_name\u001b[0m\u001b[0;34m]\u001b[0m \u001b[0;34m=\u001b[0m \u001b[0mnew_arg_value\u001b[0m\u001b[0;34m\u001b[0m\u001b[0;34m\u001b[0m\u001b[0m\n\u001b[0;32m--> 207\u001b[0;31m             \u001b[0;32mreturn\u001b[0m \u001b[0mfunc\u001b[0m\u001b[0;34m(\u001b[0m\u001b[0;34m*\u001b[0m\u001b[0margs\u001b[0m\u001b[0;34m,\u001b[0m \u001b[0;34m**\u001b[0m\u001b[0mkwargs\u001b[0m\u001b[0;34m)\u001b[0m\u001b[0;34m\u001b[0m\u001b[0;34m\u001b[0m\u001b[0m\n\u001b[0m\u001b[1;32m    208\u001b[0m \u001b[0;34m\u001b[0m\u001b[0m\n\u001b[1;32m    209\u001b[0m         \u001b[0;32mreturn\u001b[0m \u001b[0mcast\u001b[0m\u001b[0;34m(\u001b[0m\u001b[0mF\u001b[0m\u001b[0;34m,\u001b[0m \u001b[0mwrapper\u001b[0m\u001b[0;34m)\u001b[0m\u001b[0;34m\u001b[0m\u001b[0;34m\u001b[0m\u001b[0m\n",
      "\u001b[0;32m/usr/local/lib/python3.9/site-packages/statsmodels/tsa/holtwinters/model.py\u001b[0m in \u001b[0;36m__init__\u001b[0;34m(self, endog, trend, damped_trend, seasonal, seasonal_periods, initialization_method, initial_level, initial_trend, initial_seasonal, use_boxcox, bounds, dates, freq, missing)\u001b[0m\n\u001b[1;32m    241\u001b[0m             \u001b[0mself\u001b[0m\u001b[0;34m.\u001b[0m\u001b[0m_data\u001b[0m \u001b[0;34m>\u001b[0m \u001b[0;36m0.0\u001b[0m\u001b[0;34m\u001b[0m\u001b[0;34m\u001b[0m\u001b[0m\n\u001b[1;32m    242\u001b[0m         ):\n\u001b[0;32m--> 243\u001b[0;31m             raise ValueError(\n\u001b[0m\u001b[1;32m    244\u001b[0m                 \u001b[0;34m\"endog must be strictly positive when using\"\u001b[0m\u001b[0;34m\u001b[0m\u001b[0;34m\u001b[0m\u001b[0m\n\u001b[1;32m    245\u001b[0m                 \u001b[0;34m\"multiplicative trend or seasonal components.\"\u001b[0m\u001b[0;34m\u001b[0m\u001b[0;34m\u001b[0m\u001b[0m\n",
      "\u001b[0;31mValueError\u001b[0m: endog must be strictly positive when usingmultiplicative trend or seasonal components."
     ]
    }
   ],
   "source": [
    "from sktime.forecasting.exp_smoothing import ExponentialSmoothing\n",
    "\n",
    "reg_period = 12\n",
    "forecaster = ExponentialSmoothing(trend=\"add\", seasonal=\"multiplicative\", sp=reg_period)\n",
    "forecaster.fit(y_train)\n",
    "y_pred = forecaster.predict(fh)\n",
    "plot_series(y_train, y_test, y_pred, labels=[\"y_train\", \"y_test\", \"y_pred\"])\n",
    "y_pred, y_test\n",
    "mae(y_pred, y_test)"
   ]
  },
  {
   "cell_type": "code",
   "execution_count": null,
   "id": "4bc98a94-cdc3-49c0-a530-b4f4fed8d904",
   "metadata": {},
   "outputs": [],
   "source": []
  },
  {
   "cell_type": "code",
   "execution_count": null,
   "id": "7ccdc013-722d-4044-88dc-e8837569fb94",
   "metadata": {},
   "outputs": [],
   "source": []
  }
 ],
 "metadata": {
  "kernelspec": {
   "display_name": "Python 3 (ipykernel)",
   "language": "python",
   "name": "python3"
  },
  "language_info": {
   "codemirror_mode": {
    "name": "ipython",
    "version": 3
   },
   "file_extension": ".py",
   "mimetype": "text/x-python",
   "name": "python",
   "nbconvert_exporter": "python",
   "pygments_lexer": "ipython3",
   "version": "3.9.12"
  }
 },
 "nbformat": 4,
 "nbformat_minor": 5
}
