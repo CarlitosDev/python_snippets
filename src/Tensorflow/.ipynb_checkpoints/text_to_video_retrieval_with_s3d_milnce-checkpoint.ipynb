{
 "cells": [
  {
   "cell_type": "code",
   "execution_count": 1,
   "metadata": {
    "id": "8JSGdaDHc_f4",
    "tags": []
   },
   "outputs": [],
   "source": [
    "# Copyright 2019 The TensorFlow Hub Authors. All Rights Reserved.\n",
    "#\n",
    "# Licensed under the Apache License, Version 2.0 (the \"License\");\n",
    "# you may not use this file except in compliance with the License.\n",
    "# You may obtain a copy of the License at\n",
    "#\n",
    "#     http://www.apache.org/licenses/LICENSE-2.0\n",
    "#\n",
    "# Unless required by applicable law or agreed to in writing, software\n",
    "# distributed under the License is distributed on an \"AS IS\" BASIS,\n",
    "# WITHOUT WARRANTIES OR CONDITIONS OF ANY KIND, either express or implied.\n",
    "# See the License for the specific language governing permissions and\n",
    "# limitations under the License.\n",
    "# =============================================================================="
   ]
  },
  {
   "cell_type": "markdown",
   "metadata": {
    "id": "z2_BHI6XdJ30"
   },
   "source": [
    "# Text-to-Video retrieval with S3D MIL-NCE"
   ]
  },
  {
   "cell_type": "markdown",
   "metadata": {
    "id": "Rm0K9ZTgfISB"
   },
   "source": [
    "<table class=\"tfo-notebook-buttons\" align=\"left\">\n",
    "  <td>\n",
    "    <a target=\"_blank\" href=\"https://www.tensorflow.org/hub/tutorials/text_to_video_retrieval_with_s3d_milnce\"><img src=\"https://www.tensorflow.org/images/tf_logo_32px.png\" />View on TensorFlow.org</a>\n",
    "  </td>\n",
    "  <td>\n",
    "    <a target=\"_blank\" href=\"https://colab.research.google.com/github/tensorflow/hub/blob/master/examples/colab/text_to_video_retrieval_with_s3d_milnce.ipynb\"><img src=\"https://www.tensorflow.org/images/colab_logo_32px.png\" />Run in Google Colab</a>\n",
    "  </td>\n",
    "  <td>\n",
    "    <a target=\"_blank\" href=\"https://github.com/tensorflow/hub/blob/master/examples/colab/text_to_video_retrieval_with_s3d_milnce.ipynb\"><img src=\"https://www.tensorflow.org/images/GitHub-Mark-32px.png\" />View on GitHub</a>\n",
    "  </td>\n",
    "  <td>\n",
    "    <a href=\"https://storage.googleapis.com/tensorflow_docs/hub/examples/colab/text_to_video_retrieval_with_s3d_milnce.ipynb\"><img src=\"https://www.tensorflow.org/images/download_logo_32px.png\" />Download notebook</a>\n",
    "  </td>\n",
    "  <td>\n",
    "    <a href=\"https://tfhub.dev/deepmind/mil-nce/s3d/1\"><img src=\"https://www.tensorflow.org/images/hub_logo_32px.png\" />See TF Hub model</a>\n",
    "  </td>\n",
    "</table>"
   ]
  },
  {
   "cell_type": "code",
   "execution_count": 2,
   "metadata": {
    "id": "bC_xJPpQd-LO",
    "tags": []
   },
   "outputs": [],
   "source": [
    "#!pip install -q opencv-python\n",
    "\n",
    "import os\n",
    "\n",
    "import tensorflow.compat.v2 as tf\n",
    "import tensorflow_hub as hub\n",
    "\n",
    "import numpy as np\n",
    "import cv2\n",
    "#from IPython import display\n",
    "import math\n",
    "\n",
    "from IPython.core.display import display, HTML"
   ]
  },
  {
   "cell_type": "markdown",
   "metadata": {
    "id": "ZxwaK-jf7qkW"
   },
   "source": [
    "## Import TF-Hub model\n",
    "\n",
    "This tutorial demonstrates how to use the [S3D MIL-NCE model](https://tfhub.dev/deepmind/mil-nce/s3d/1) from TensorFlow Hub to do **text-to-video retrieval** to find the most similar videos for a given text query.\n",
    "\n",
    "The model has 2 signatures, one for generating *video embeddings* and one for generating *text embeddings*. We will use these embedding to find the nearest neighbors in the embedding space."
   ]
  },
  {
   "cell_type": "code",
   "execution_count": 3,
   "metadata": {
    "id": "nwv4ZQ4qmak5",
    "tags": []
   },
   "outputs": [],
   "source": [
    "# Load the model once from TF-Hub.\n",
    "hub_handle = 'https://tfhub.dev/deepmind/mil-nce/s3d/1'\n",
    "hub_model = hub.load(hub_handle)\n",
    "\n",
    "def generate_embeddings(model, input_frames, input_words):\n",
    "  \"\"\"Generate embeddings from the model from video frames and input words.\"\"\"\n",
    "  # Input_frames must be normalized in [0, 1] and of the shape Batch x T x H x W x 3\n",
    "  vision_output = model.signatures['video'](tf.constant(tf.cast(input_frames, dtype=tf.float32)))\n",
    "  text_output = model.signatures['text'](tf.constant(input_words))\n",
    "  return vision_output['video_embedding'], text_output['text_embedding']"
   ]
  },
  {
   "cell_type": "code",
   "execution_count": 4,
   "metadata": {
    "id": "EOZzu9ddekEj",
    "tags": []
   },
   "outputs": [],
   "source": [
    "# @title Define video loading and visualization functions  { display-mode: \"form\" }\n",
    "\n",
    "# Utilities to open video files using CV2\n",
    "def crop_center_square(frame):\n",
    "  y, x = frame.shape[0:2]\n",
    "  min_dim = min(y, x)\n",
    "  start_x = (x // 2) - (min_dim // 2)\n",
    "  start_y = (y // 2) - (min_dim // 2)\n",
    "  return frame[start_y:start_y+min_dim,start_x:start_x+min_dim]\n",
    "\n",
    "\n",
    "def load_video(video_url, max_frames=32, resize=(224, 224)):\n",
    "  path = tf.keras.utils.get_file(os.path.basename(video_url)[-128:], video_url)\n",
    "  cap = cv2.VideoCapture(path)\n",
    "  frames = []\n",
    "  try:\n",
    "    while True:\n",
    "      ret, frame = cap.read()\n",
    "      if not ret:\n",
    "        break\n",
    "      frame = crop_center_square(frame)\n",
    "      frame = cv2.resize(frame, resize)\n",
    "      frame = frame[:, :, [2, 1, 0]]\n",
    "      frames.append(frame)\n",
    "\n",
    "      if len(frames) == max_frames:\n",
    "        break\n",
    "  finally:\n",
    "    cap.release()\n",
    "  frames = np.array(frames)\n",
    "  if len(frames) < max_frames:\n",
    "    n_repeat = int(math.ceil(max_frames / float(len(frames))))\n",
    "    frames = frames.repeat(n_repeat, axis=0)\n",
    "  frames = frames[:max_frames]\n",
    "  return frames / 255.0\n",
    "\n",
    "\n",
    "def load_local_video(path, max_frames=32, resize=(224, 224)):\n",
    "  cap = cv2.VideoCapture(path)\n",
    "  frames = []\n",
    "  try:\n",
    "    while True:\n",
    "      ret, frame = cap.read()\n",
    "      if not ret:\n",
    "        break\n",
    "      frame = crop_center_square(frame)\n",
    "      frame = cv2.resize(frame, resize)\n",
    "      frame = frame[:, :, [2, 1, 0]]\n",
    "      frames.append(frame)\n",
    "\n",
    "      if len(frames) == max_frames:\n",
    "        break\n",
    "  finally:\n",
    "    cap.release()\n",
    "  frames = np.array(frames)\n",
    "  if len(frames) < max_frames:\n",
    "    n_repeat = int(math.ceil(max_frames / float(len(frames))))\n",
    "    frames = frames.repeat(n_repeat, axis=0)\n",
    "  frames = frames[:max_frames]\n",
    "  return frames / 255.0\n",
    "\n",
    "\n",
    "\n",
    "def display_video(urls):\n",
    "    html = '<table>'\n",
    "    html += '<tr><th>Video 1</th><th>Video 2</th><th>Video 3</th></tr><tr>'\n",
    "    for url in urls:\n",
    "        html += '<td>'\n",
    "        html += '<img src=\"{}\" height=\"224\">'.format(url)\n",
    "        html += '</td>'\n",
    "    html += '</tr></table>'\n",
    "    #return display.HTML(html)\n",
    "    return    display(HTML(html))\n",
    "\n",
    "def display_query_and_results_video(query, urls, scores):\n",
    "  \"\"\"Display a text query and the top result videos and scores.\"\"\"\n",
    "  sorted_ix = np.argsort(-scores)\n",
    "  html = ''\n",
    "  html += '<h2>Input query: <i>{}</i> </h2><div>'.format(query)\n",
    "  html += 'Results: <div>'\n",
    "  html += '<table>'\n",
    "  html += '<tr><th>Rank #1, Score:{:.2f}</th>'.format(scores[sorted_ix[0]])\n",
    "  html += '<th>Rank #2, Score:{:.2f}</th>'.format(scores[sorted_ix[1]])\n",
    "  html += '<th>Rank #3, Score:{:.2f}</th></tr><tr>'.format(scores[sorted_ix[2]])\n",
    "  for i, idx in enumerate(sorted_ix):\n",
    "    url = urls[sorted_ix[i]];\n",
    "    html += '<td>'\n",
    "    html += f'<img src=\"{url}\" alt=\"{url}\" height=\"224\">'\n",
    "    html += '</td>'\n",
    "  html += '</tr></table>'\n",
    "  return html\n",
    "\n",
    "\n",
    "def display_query_and_results_video_tweaked(query, urls, scores):\n",
    "  \"\"\"Display a text query and the top result videos and scores.\"\"\"\n",
    "  sorted_ix = np.argsort(-scores)\n",
    "  html = ''\n",
    "  html += '<h2>Input query: <i>{}</i> </h2><div>'.format(query)\n",
    "  html += 'Results: <div>'\n",
    "  html += '<table>'\n",
    "  html += '<tr><th>Rank #1, Score:{:.2f}</th>'.format(scores[sorted_ix[0]])\n",
    "  html += '<th>Rank #2, Score:{:.2f}</th>'.format(scores[sorted_ix[1]])\n",
    "  html += '<th>Rank #3, Score:{:.2f}</th></tr><tr>'.format(scores[sorted_ix[2]])\n",
    "  for i, idx in enumerate(sorted_ix):\n",
    "    url = urls[sorted_ix[i]];\n",
    "    html += '<td>'\n",
    "    #html += '<img src=\"{}\" height=\"224\">'.format(url)\n",
    "    \n",
    "    html += f'''<video id=\"{url}\" width=\"224\" height=\"224\">  \n",
    "    <source src=\"{url}\" type=\"video/mp4\">\n",
    "    Your browser does not support HTML5 video.\n",
    "    </video>'''\n",
    "    \n",
    "    html += '</td>'\n",
    "  html += '</tr></table>'\n",
    "  return html"
   ]
  },
  {
   "cell_type": "code",
   "execution_count": 5,
   "metadata": {
    "id": "Ime5V4kDewh8",
    "tags": []
   },
   "outputs": [
    {
     "data": {
      "text/html": [
       "<table><tr><th>Video 1</th><th>Video 2</th><th>Video 3</th></tr><tr><td><img src=\"/Users/carlos.aguilar/Documents/EF_Content/Content from S3/mp4/MOB_1.3.2.3.2_roleplay.mp4\" height=\"224\"></td><td><img src=\"/Users/carlos.aguilar/Documents/EF_Content/Content from S3/mp4/MOB_9.4.1.6.2_RP.mp4\" height=\"224\"></td><td><img src=\"/Users/carlos.aguilar/Documents/EF_Content/Content from S3/mp4/7.7.3.1.1_s.mp4\" height=\"224\"></td></tr></table>"
      ],
      "text/plain": [
       "<IPython.core.display.HTML object>"
      ]
     },
     "metadata": {},
     "output_type": "display_data"
    }
   ],
   "source": [
    "# @title Load example videos and define text queries  { display-mode: \"form\" }\n",
    "\n",
    "# People introducing themselves in a hotel\n",
    "video_1_url = '/Users/carlos.aguilar/Documents/EF_Content/Content from S3/mp4/MOB_1.3.2.3.2_roleplay.mp4' # @param {type:\"string\"}\n",
    "# this is about going to a pool. The only things shown in the video are the googles and the towel\n",
    "video_2_url = '/Users/carlos.aguilar/Documents/EF_Content/Content from S3/mp4/MOB_9.4.1.6.2_RP.mp4' # @param {type:\"string\"}\n",
    "\n",
    "video_3_url = '/Users/carlos.aguilar/Documents/EF_Content/Content from S3/mp4/7.7.3.1.1_s.mp4' # @param {type:\"string\"}\n",
    "\n",
    "video_1 = load_local_video(video_1_url)\n",
    "video_2 = load_local_video(video_2_url)\n",
    "video_3 = load_local_video(video_3_url)\n",
    "all_videos = [video_1, video_2, video_3]\n",
    "\n",
    "query_1_video = 'hotel' # @param {type:\"string\"}\n",
    "query_2_video = 'pool' # @param {type:\"string\"}\n",
    "query_3_video = 'car drifting' # @param {type:\"string\"}\n",
    "all_queries_video = [query_1_video, query_2_video, query_3_video]\n",
    "all_videos_urls = [video_1_url, video_2_url, video_3_url]\n",
    "display_video(all_videos_urls)"
   ]
  },
  {
   "cell_type": "markdown",
   "metadata": {
    "id": "NCLKv_L_8Anc"
   },
   "source": [
    "## Demonstrate text to video retrieval\n"
   ]
  },
  {
   "cell_type": "code",
   "execution_count": 6,
   "metadata": {
    "id": "9oX8ItFUjybi",
    "tags": []
   },
   "outputs": [],
   "source": [
    "# Prepare video inputs.\n",
    "videos_np = np.stack(all_videos, axis=0)\n",
    "\n",
    "# Prepare text input.\n",
    "words_np = np.array(all_queries_video)\n",
    "\n",
    "# Generate the video and text embeddings.\n",
    "video_embd, text_embd = generate_embeddings(hub_model, videos_np, words_np)\n",
    "\n",
    "# Scores between video and text is computed by dot products.\n",
    "all_scores = np.dot(text_embd, tf.transpose(video_embd))"
   ]
  },
  {
   "cell_type": "code",
   "execution_count": 9,
   "metadata": {},
   "outputs": [
    {
     "data": {
      "text/plain": [
       "TensorShape([3, 512])"
      ]
     },
     "execution_count": 9,
     "metadata": {},
     "output_type": "execute_result"
    }
   ],
   "source": [
    "video_embd.shape"
   ]
  },
  {
   "cell_type": "code",
   "execution_count": 7,
   "metadata": {
    "id": "d4AwYmODmE9Y",
    "tags": []
   },
   "outputs": [
    {
     "data": {
      "text/html": [
       "<h2>Input query: <i>hotel</i> </h2><div>Results: <div><table><tr><th>Rank #1, Score:5.53</th><th>Rank #2, Score:3.90</th><th>Rank #3, Score:3.66</th></tr><tr><td><img src=\"/Users/carlos.aguilar/Documents/EF_Content/Content from S3/mp4/MOB_1.3.2.3.2_roleplay.mp4\" alt=\"/Users/carlos.aguilar/Documents/EF_Content/Content from S3/mp4/MOB_1.3.2.3.2_roleplay.mp4\" height=\"224\"></td><td><img src=\"/Users/carlos.aguilar/Documents/EF_Content/Content from S3/mp4/MOB_9.4.1.6.2_RP.mp4\" alt=\"/Users/carlos.aguilar/Documents/EF_Content/Content from S3/mp4/MOB_9.4.1.6.2_RP.mp4\" height=\"224\"></td><td><img src=\"/Users/carlos.aguilar/Documents/EF_Content/Content from S3/mp4/7.7.3.1.1_s.mp4\" alt=\"/Users/carlos.aguilar/Documents/EF_Content/Content from S3/mp4/7.7.3.1.1_s.mp4\" height=\"224\"></td></tr></table><br><h2>Input query: <i>pool</i> </h2><div>Results: <div><table><tr><th>Rank #1, Score:2.10</th><th>Rank #2, Score:0.72</th><th>Rank #3, Score:-1.17</th></tr><tr><td><img src=\"/Users/carlos.aguilar/Documents/EF_Content/Content from S3/mp4/MOB_9.4.1.6.2_RP.mp4\" alt=\"/Users/carlos.aguilar/Documents/EF_Content/Content from S3/mp4/MOB_9.4.1.6.2_RP.mp4\" height=\"224\"></td><td><img src=\"/Users/carlos.aguilar/Documents/EF_Content/Content from S3/mp4/7.7.3.1.1_s.mp4\" alt=\"/Users/carlos.aguilar/Documents/EF_Content/Content from S3/mp4/7.7.3.1.1_s.mp4\" height=\"224\"></td><td><img src=\"/Users/carlos.aguilar/Documents/EF_Content/Content from S3/mp4/MOB_1.3.2.3.2_roleplay.mp4\" alt=\"/Users/carlos.aguilar/Documents/EF_Content/Content from S3/mp4/MOB_1.3.2.3.2_roleplay.mp4\" height=\"224\"></td></tr></table><br><h2>Input query: <i>car drifting</i> </h2><div>Results: <div><table><tr><th>Rank #1, Score:4.06</th><th>Rank #2, Score:1.95</th><th>Rank #3, Score:0.78</th></tr><tr><td><img src=\"/Users/carlos.aguilar/Documents/EF_Content/Content from S3/mp4/MOB_9.4.1.6.2_RP.mp4\" alt=\"/Users/carlos.aguilar/Documents/EF_Content/Content from S3/mp4/MOB_9.4.1.6.2_RP.mp4\" height=\"224\"></td><td><img src=\"/Users/carlos.aguilar/Documents/EF_Content/Content from S3/mp4/MOB_1.3.2.3.2_roleplay.mp4\" alt=\"/Users/carlos.aguilar/Documents/EF_Content/Content from S3/mp4/MOB_1.3.2.3.2_roleplay.mp4\" height=\"224\"></td><td><img src=\"/Users/carlos.aguilar/Documents/EF_Content/Content from S3/mp4/7.7.3.1.1_s.mp4\" alt=\"/Users/carlos.aguilar/Documents/EF_Content/Content from S3/mp4/7.7.3.1.1_s.mp4\" height=\"224\"></td></tr></table><br>"
      ],
      "text/plain": [
       "<IPython.core.display.HTML object>"
      ]
     },
     "metadata": {},
     "output_type": "display_data"
    }
   ],
   "source": [
    "# Display results.\n",
    "html = ''\n",
    "for i, words in enumerate(words_np):\n",
    "  html += display_query_and_results_video(words, all_videos_urls, all_scores[i, :])\n",
    "  html += '<br>'\n",
    "display(HTML(html))"
   ]
  },
  {
   "cell_type": "code",
   "execution_count": 8,
   "metadata": {},
   "outputs": [
    {
     "data": {
      "text/plain": [
       "array([[ 5.5310497,  3.8989134,  3.6604927],\n",
       "       [-1.1684574,  2.1042342,  0.7154428],\n",
       "       [ 1.9519444,  4.05822  ,  0.7823329]], dtype=float32)"
      ]
     },
     "execution_count": 8,
     "metadata": {},
     "output_type": "execute_result"
    }
   ],
   "source": [
    "all_scores"
   ]
  },
  {
   "cell_type": "markdown",
   "metadata": {},
   "source": [
    "## Produce embeddings for several videos"
   ]
  },
  {
   "cell_type": "code",
   "execution_count": 11,
   "metadata": {},
   "outputs": [],
   "source": [
    "import glob\n",
    "video_folder = '/Users/carlos.aguilar/Documents/EF_Content/EFxAWS/mp4'\n",
    "glob_pattern = os.path.join(video_folder, '*.mp4')\n",
    "video_content_files = glob.glob(glob_pattern)\n",
    "\n",
    "all_videos = []\n",
    "for idx, this_file in enumerate(video_content_files):\n",
    "  all_videos.append(load_local_video(this_file))\n",
    "\n",
    "videos_np = np.stack(all_videos, axis=0)  "
   ]
  },
  {
   "cell_type": "code",
   "execution_count": 13,
   "metadata": {},
   "outputs": [
    {
     "data": {
      "text/plain": [
       "(20, 32, 224, 224, 3)"
      ]
     },
     "execution_count": 13,
     "metadata": {},
     "output_type": "execute_result"
    }
   ],
   "source": [
    "videos_np.shape"
   ]
  },
  {
   "cell_type": "code",
   "execution_count": 25,
   "metadata": {},
   "outputs": [],
   "source": [
    "s3d_embedding = hub_model.signatures['video'](tf.constant(tf.cast(videos_np, dtype=tf.float32)))"
   ]
  },
  {
   "cell_type": "code",
   "execution_count": 26,
   "metadata": {},
   "outputs": [
    {
     "data": {
      "text/plain": [
       "dict_keys(['video_embedding', 'mixed_5c'])"
      ]
     },
     "execution_count": 26,
     "metadata": {},
     "output_type": "execute_result"
    }
   ],
   "source": [
    "'''\n",
    "mixed_5c: This is the global averaged pooled feature from S3D of dimension 1024. This should be use for classification on downstream tasks.\n",
    "video_embedding: This is the video embedding (size 512) from the joint text-video space. It should be used to compute similarity scores with text inputs using the text embedding.\n",
    "'''\n",
    "s3d_embedding.keys()"
   ]
  },
  {
   "cell_type": "code",
   "execution_count": 27,
   "metadata": {},
   "outputs": [
    {
     "data": {
      "text/plain": [
       "(20, 512)"
      ]
     },
     "execution_count": 27,
     "metadata": {},
     "output_type": "execute_result"
    }
   ],
   "source": [
    "video_embedding = np.array(s3d_embedding['video_embedding'])\n",
    "video_embedding.shape"
   ]
  },
  {
   "cell_type": "code",
   "execution_count": 41,
   "metadata": {},
   "outputs": [],
   "source": [
    "dc_embeddings = {'file_names': video_content_files, 'video_embedding': video_embedding}\n",
    "import utils.file_utils as fu\n",
    "folder_path = '/Users/carlos.aguilar/Documents/EF_Content/EFxAWS/embeddings'\n",
    "fu.makeFolder(folder_path)\n",
    "file_path = os.path.join(folder_path, 'embeddings_18.03.2021.pickle')\n",
    "fu.dataFrameToPickle(dc_embeddings,file_path)"
   ]
  }
 ],
 "metadata": {
  "colab": {
   "collapsed_sections": [],
   "name": "Text-to-Video retrieval with S3D MIL-NCE",
   "private_outputs": true,
   "provenance": [],
   "toc_visible": true
  },
  "kernelspec": {
   "display_name": "Python 3",
   "language": "python",
   "name": "python3"
  },
  "language_info": {
   "codemirror_mode": {
    "name": "ipython",
    "version": 3
   },
   "file_extension": ".py",
   "mimetype": "text/x-python",
   "name": "python",
   "nbconvert_exporter": "python",
   "pygments_lexer": "ipython3",
   "version": "3.8.7"
  }
 },
 "nbformat": 4,
 "nbformat_minor": 4
}
